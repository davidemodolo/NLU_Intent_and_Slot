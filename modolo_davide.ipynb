{
 "cells": [
  {
   "cell_type": "markdown",
   "metadata": {},
   "source": [
    "Modolo Davide\n",
    "\n",
    "**NLU Project - Joint Intent Classification and Slot Filling Sentence Level**"
   ]
  },
  {
   "cell_type": "code",
   "execution_count": 1,
   "metadata": {},
   "outputs": [
    {
     "name": "stderr",
     "output_type": "stream",
     "text": [
      "c:\\Users\\Davide\\AppData\\Local\\Programs\\Python\\Python310\\lib\\site-packages\\tqdm\\auto.py:22: TqdmWarning: IProgress not found. Please update jupyter and ipywidgets. See https://ipywidgets.readthedocs.io/en/stable/user_install.html\n",
      "  from .autonotebook import tqdm as notebook_tqdm\n"
     ]
    },
    {
     "name": "stdout",
     "output_type": "stream",
     "text": [
      "True\n"
     ]
    }
   ],
   "source": [
    "# imports and PAD_TOKEN\n",
    "PAD_TOKEN = 0\n",
    "import os\n",
    "import json\n",
    "\n",
    "import torch\n",
    "print(torch.cuda.is_available())\n",
    "device = 'cuda:0' # cuda:0 means we are using the GPU with id 0, if you have multiple GPU\n",
    "os.environ['CUDA_LAUNCH_BLOCKING'] = \"1\" # Used to report errors on CUDA side\n",
    "import torch.utils.data as data\n",
    "\n",
    "from torch.utils.data import DataLoader\n",
    "\n",
    "import torch.nn as nn\n",
    "from torch.nn.utils.rnn import pack_padded_sequence, pad_packed_sequence"
   ]
  },
  {
   "cell_type": "code",
   "execution_count": 2,
   "metadata": {},
   "outputs": [],
   "source": [
    "# Lang class\n",
    "def word2id(raw_dataset):\n",
    "# returns a dictionary of words and their ids\n",
    "    words = []\n",
    "    for entry in raw_dataset:\n",
    "       words.extend(entry['utterance'].split())\n",
    "    words = list(set(words))\n",
    "    words_dict = {'pad': PAD_TOKEN}\n",
    "    words_dict.update({w:i+1 for i, w in enumerate(words)})\n",
    "    words_dict['unk'] = len(words_dict)\n",
    "    return words_dict\n",
    "\n",
    "def slot2id(raw_dataset):\n",
    "# returns a dictionary of slots and their ids\n",
    "    slots = ['pad']\n",
    "    for entry in raw_dataset:\n",
    "       slots.extend(entry['slots'].split())\n",
    "    slots = list(set(slots))\n",
    "    slots_dict = {s:i for i, s in enumerate(slots)}\n",
    "    return slots_dict\n",
    "\n",
    "def intent2id(raw_dataset):\n",
    "# returns a dictionary of intents and their ids\n",
    "    intents = [entry['intent'] for entry in raw_dataset]\n",
    "    intents = list(set(intents))\n",
    "    intents_dict = {inte:i for i, inte in enumerate(intents)}\n",
    "    return intents_dict\n",
    "\n",
    "class Lang():\n",
    "    def __init__(self, train_raw, dev_raw, test_raw):\n",
    "        self.word2id = word2id(train_raw)\n",
    "        self.slot2id = slot2id(train_raw + dev_raw + test_raw)\n",
    "        self.intent2id = intent2id(train_raw + dev_raw + test_raw)\n",
    "        self.id2word = {v:k for k, v in self.word2id.items()}\n",
    "        self.id2slot = {v:k for k, v in self.slot2id.items()}\n",
    "        self.id2intent = {v:k for k, v in self.intent2id.items()}\n",
    "        # self.intent_list = list(set(list(self.intent2id.keys())))\n",
    "        # self.slot_list = list(set(list(self.slot2id.keys())))"
   ]
  },
  {
   "cell_type": "code",
   "execution_count": 3,
   "metadata": {},
   "outputs": [],
   "source": [
    "# datasets\n",
    "def load_data(path):\n",
    "    dataset = []\n",
    "    with open(path) as f:\n",
    "        dataset = json.loads(f.read())\n",
    "    return dataset\n"
   ]
  },
  {
   "cell_type": "markdown",
   "metadata": {},
   "source": [
    "From Lab10"
   ]
  },
  {
   "cell_type": "code",
   "execution_count": 4,
   "metadata": {},
   "outputs": [],
   "source": [
    "class IntentsAndSlots (data.Dataset):\n",
    "    # Mandatory methods are __init__, __len__ and __getitem__\n",
    "    def __init__(self, dataset, lang, unk='unk'):\n",
    "        self.utterances = []\n",
    "        self.intents = []\n",
    "        self.slots = []\n",
    "        self.unk = unk\n",
    "        \n",
    "        for x in dataset:\n",
    "            self.utterances.append(x['utterance'])\n",
    "            self.slots.append(x['slots'])\n",
    "            self.intents.append(x['intent'])\n",
    "\n",
    "        self.utt_ids = self.mapping_seq(self.utterances, lang.word2id)\n",
    "        self.slot_ids = self.mapping_seq(self.slots, lang.slot2id)\n",
    "        self.intent_ids = self.mapping_lab(self.intents, lang.intent2id)\n",
    "\n",
    "    def __len__(self):\n",
    "        return len(self.utterances)\n",
    "\n",
    "    def __getitem__(self, idx):\n",
    "        utt = torch.Tensor(self.utt_ids[idx])\n",
    "        slots = torch.Tensor(self.slot_ids[idx])\n",
    "        intent = self.intent_ids[idx]\n",
    "        sample = {'utterance': utt, 'slots': slots, 'intent': intent}\n",
    "        return sample\n",
    "    \n",
    "    # Auxiliary methods\n",
    "    \n",
    "    def mapping_lab(self, data, mapper):\n",
    "        return [mapper[x] if x in mapper else mapper[self.unk] for x in data]\n",
    "    \n",
    "    def mapping_seq(self, data, mapper): # Map sequences to number\n",
    "        res = []\n",
    "        for seq in data:\n",
    "            tmp_seq = []\n",
    "            for x in seq.split():\n",
    "                if x in mapper:\n",
    "                    tmp_seq.append(mapper[x])\n",
    "                else:\n",
    "                    tmp_seq.append(mapper[self.unk])\n",
    "            res.append(tmp_seq)\n",
    "        return res\n",
    "\n",
    "def collate_fn(data):\n",
    "    def merge(sequences):\n",
    "        '''\n",
    "        merge from batch * sent_len to batch * max_len \n",
    "        '''\n",
    "        lengths = [len(seq) for seq in sequences]\n",
    "        max_len = 1 if max(lengths)==0 else max(lengths)\n",
    "        # Pad token is zero in our case\n",
    "        # So we create a matrix full of PAD_TOKEN (i.e. 0) with the shape \n",
    "        # batch_size X maximum length of a sequence\n",
    "        padded_seqs = torch.LongTensor(len(sequences),max_len).fill_(PAD_TOKEN)\n",
    "        for i, seq in enumerate(sequences):\n",
    "            end = lengths[i]\n",
    "            padded_seqs[i, :end] = seq # We copy each sequence into the matrix\n",
    "        # print(padded_seqs)\n",
    "        padded_seqs = padded_seqs.detach()  # We remove these tensors from the computational graph\n",
    "        return padded_seqs, lengths\n",
    "    # Sort data by seq lengths\n",
    "    data.sort(key=lambda x: len(x['utterance']), reverse=True) \n",
    "    new_item = {}\n",
    "    for key in data[0].keys():\n",
    "        new_item[key] = [d[key] for d in data]\n",
    "    # We just need one length for packed pad seq, since len(utt) == len(slots)\n",
    "    src_utt, _ = merge(new_item['utterance'])\n",
    "    y_slots, y_lengths = merge(new_item[\"slots\"])\n",
    "    intent = torch.LongTensor(new_item[\"intent\"])\n",
    "    \n",
    "    src_utt = src_utt.to(device) # We load the Tensor on our seleceted device\n",
    "    y_slots = y_slots.to(device)\n",
    "    intent = intent.to(device)\n",
    "    y_lengths = torch.LongTensor(y_lengths).to(device)\n",
    "    \n",
    "    new_item[\"utterances\"] = src_utt\n",
    "    new_item[\"intents\"] = intent\n",
    "    new_item[\"y_slots\"] = y_slots\n",
    "    new_item[\"slots_len\"] = y_lengths\n",
    "    return new_item"
   ]
  },
  {
   "cell_type": "code",
   "execution_count": 5,
   "metadata": {},
   "outputs": [],
   "source": [
    "# data loader\n",
    "def prepare_data(dataset):\n",
    "    train_raw = load_data(os.path.join('data', dataset, 'train.json'))\n",
    "    test_raw = load_data(os.path.join('data', dataset, 'test.json'))\n",
    "    dev_raw = load_data(os.path.join('data', dataset, 'valid.json'))\n",
    "    \n",
    "    lang = Lang(train_raw, dev_raw, test_raw)\n",
    "\n",
    "    ##############################\n",
    "    train_dataset = IntentsAndSlots(train_raw, lang)\n",
    "    dev_dataset = IntentsAndSlots(dev_raw, lang)\n",
    "    test_dataset = IntentsAndSlots(test_raw, lang)\n",
    "    \n",
    "    ##############################\n",
    "    train_loader = DataLoader(train_dataset, batch_size=128, collate_fn=collate_fn,  shuffle=True)\n",
    "    dev_loader = DataLoader(dev_dataset, batch_size=64, collate_fn=collate_fn)\n",
    "    test_loader = DataLoader(test_dataset, batch_size=64, collate_fn=collate_fn)\n",
    "    \n",
    "    return train_loader, dev_loader, test_loader, lang"
   ]
  },
  {
   "cell_type": "code",
   "execution_count": 6,
   "metadata": {},
   "outputs": [],
   "source": [
    "# baseline model to improve\n",
    "class ModelIAS(nn.Module):\n",
    "\n",
    "    def __init__(self, hid_size, out_slot, out_int, emb_size, vocab_len, n_layer=1, pad_index=0):\n",
    "        super(ModelIAS, self).__init__()\n",
    "        # hid_size = Hidden size\n",
    "        # out_slot = number of slots (output size for slot filling)\n",
    "        # out_int = number of intents (ouput size for intent class)\n",
    "        # emb_size = word embedding size\n",
    "        \n",
    "        self.embedding = nn.Embedding(vocab_len, emb_size, padding_idx=pad_index)\n",
    "        \n",
    "        self.utt_encoder = nn.LSTM(emb_size, hid_size, n_layer, bidirectional=False)    \n",
    "        self.slot_out = nn.Linear(hid_size, out_slot)\n",
    "        self.intent_out = nn.Linear(hid_size, out_int)\n",
    "        self.dropout = nn.Dropout(0.1)\n",
    "        \n",
    "    def forward(self, utterance, seq_lengths):\n",
    "        # utterance.size() = batch_size X seq_len\n",
    "        utt_emb = self.embedding(utterance) # utt_emb.size() = batch_size X seq_len X emb_size\n",
    "        utt_emb = utt_emb.permute(1,0,2) # we need seq len first -> seq_len X batch_size X emb_size\n",
    "        \n",
    "        # pack_padded_sequence avoid computation over pad tokens reducing the computational cost\n",
    "        \n",
    "        packed_input = pack_padded_sequence(utt_emb, seq_lengths.cpu().numpy())\n",
    "        # Process the batch\n",
    "        packed_output, (last_hidden, cell) = self.utt_encoder(packed_input) \n",
    "        # Unpack the sequence\n",
    "        utt_encoded, input_sizes = pad_packed_sequence(packed_output)\n",
    "        # Get the last hidden state\n",
    "        last_hidden = last_hidden[-1,:,:]\n",
    "        # Compute slot logits\n",
    "        slots = self.slot_out(utt_encoded)\n",
    "        # Compute intent logits\n",
    "        intent = self.intent_out(last_hidden)\n",
    "        \n",
    "        # Slot size: seq_len, batch size, classes \n",
    "        slots = slots.permute(1,2,0) # We need this for computing the loss\n",
    "        # Slot size: batch_size, classes, seq_len\n",
    "        return slots, intent\n"
   ]
  },
  {
   "cell_type": "code",
   "execution_count": 7,
   "metadata": {},
   "outputs": [],
   "source": [
    "def init_weights(mat):\n",
    "    for m in mat.modules():\n",
    "        if type(m) in [nn.GRU, nn.LSTM, nn.RNN]:\n",
    "            for name, param in m.named_parameters():\n",
    "                if 'weight_ih' in name:\n",
    "                    for idx in range(4):\n",
    "                        mul = param.shape[0]//4\n",
    "                        torch.nn.init.xavier_uniform_(param[idx*mul:(idx+1)*mul])\n",
    "                elif 'weight_hh' in name:\n",
    "                    for idx in range(4):\n",
    "                        mul = param.shape[0]//4\n",
    "                        torch.nn.init.orthogonal_(param[idx*mul:(idx+1)*mul])\n",
    "                elif 'bias' in name:\n",
    "                    param.data.fill_(0)\n",
    "        else:\n",
    "            if type(m) in [nn.Linear]:\n",
    "                torch.nn.init.uniform_(m.weight, -0.01, 0.01)\n",
    "                if m.bias != None:\n",
    "                    m.bias.data.fill_(0.01)"
   ]
  },
  {
   "cell_type": "code",
   "execution_count": 8,
   "metadata": {},
   "outputs": [],
   "source": [
    "from conll import evaluate\n",
    "from sklearn.metrics import classification_report\n",
    "import torch.nn.functional as F\n",
    "\n",
    "def train_loop(data, optimizer, criterion_slots, criterion_intents, model):\n",
    "    model.train()\n",
    "    loss_array = []\n",
    "    for sample in data:\n",
    "        optimizer.zero_grad() # Zeroing the gradient\n",
    "        slots, intent = model(sample['utterances'], sample['slots_len'])\n",
    "        loss_intent = criterion_intents(intent, sample['intents'])\n",
    "        loss_slot = criterion_slots(slots, sample['y_slots'])\n",
    "        loss = loss_intent + loss_slot # In joint training we sum the losses. \n",
    "                                       # Is there another way to do that?\n",
    "        # weights, _ = torch.sort(F.softmax(torch.randn(2), dim=-1)) \n",
    "        # loss = max(loss_intent, loss_slot) * max(weights[0], weights[1]) + min(loss_intent, loss_slot) * min(weights[0], weights[1])\n",
    "        loss_array.append(loss.item())\n",
    "        loss.backward() # Compute the gradient, deleting the computational graph\n",
    "        # clip the gradient to avoid explosioning gradients\n",
    "        # torch.nn.utils.clip_grad_norm_(model.parameters(), clip)  \n",
    "        optimizer.step() # Update the weights\n",
    "    return loss_array\n",
    "\n",
    "def eval_loop(data, criterion_slots, criterion_intents, model, lang):\n",
    "    model.eval()\n",
    "    loss_array = []\n",
    "    \n",
    "    ref_intents = []\n",
    "    hyp_intents = []\n",
    "    \n",
    "    ref_slots = []\n",
    "    hyp_slots = []\n",
    "    results = 0\n",
    "    #softmax = nn.Softmax(dim=1) # Use Softmax if you need the actual probability\n",
    "    with torch.no_grad(): # It used to avoid the creation of computational graph\n",
    "        for sample in data:\n",
    "            slots, intents = model(sample['utterances'], sample['slots_len'])\n",
    "            loss_intent = criterion_intents(intents, sample['intents'])\n",
    "            loss_slot = criterion_slots(slots, sample['y_slots'])\n",
    "            loss = loss_intent + loss_slot \n",
    "            loss_array.append(loss.item())\n",
    "            # Intent inference\n",
    "            # Get the highest probable class\n",
    "            out_intents = [lang.id2intent[x] \n",
    "                           for x in torch.argmax(intents, dim=1).tolist()] \n",
    "            gt_intents = [lang.id2intent[x] for x in sample['intents'].tolist()]\n",
    "            ref_intents.extend(gt_intents)\n",
    "            hyp_intents.extend(out_intents)\n",
    "            \n",
    "            # Slot inference \n",
    "            output_slots = torch.argmax(slots, dim=1)\n",
    "            for id_seq, seq in enumerate(output_slots):\n",
    "                length = sample['slots_len'].tolist()[id_seq]\n",
    "                utt_ids = sample['utterance'][id_seq][:length].tolist()\n",
    "                gt_ids = sample['y_slots'][id_seq].tolist()\n",
    "                gt_slots = [lang.id2slot[elem] for elem in gt_ids[:length]]\n",
    "                utterance = [lang.id2word[elem] for elem in utt_ids]\n",
    "                to_decode = seq[:length].tolist()\n",
    "                ref_slots.append([(utterance[id_el], elem) for id_el, elem in enumerate(gt_slots)])\n",
    "                tmp_seq = []\n",
    "                for id_el, elem in enumerate(to_decode):\n",
    "                    tmp_seq.append((utterance[id_el], lang.id2slot[elem]))\n",
    "                hyp_slots.append(tmp_seq)\n",
    "    try:            \n",
    "        results = evaluate(ref_slots, hyp_slots)\n",
    "    except Exception as ex:\n",
    "        # Sometimes the model predics a class that is not in REF\n",
    "        print(ex)\n",
    "        ref_s = set([x[1] for x in ref_slots])\n",
    "        hyp_s = set([x[1] for x in hyp_slots])\n",
    "        print(hyp_s.difference(ref_s))\n",
    "        \n",
    "    report_intent = classification_report(ref_intents, hyp_intents, \n",
    "                                          zero_division=False, output_dict=True)\n",
    "    return results, report_intent, loss_array\n"
   ]
  },
  {
   "cell_type": "code",
   "execution_count": 9,
   "metadata": {},
   "outputs": [],
   "source": [
    "import torch.nn.functional as F\n",
    "class IASbi(nn.Module):\n",
    "    def __init__(self, hid_size, out_slot, out_int, emb_size, vocab_len, n_layer=1, pad_index=0,  dropout=0.1):\n",
    "        super(IASbi, self).__init__()\n",
    "\n",
    "        self.hidden = None\n",
    "\n",
    "        self.embedding = nn.Embedding(vocab_len, emb_size, padding_idx=pad_index)\n",
    "        self.bidirectionality = True\n",
    "        # self.gru = nn.GRU(emb_size, hid_size, n_layer, bidirectional=self.bidirectionality)   \n",
    "        self.lstm = nn.LSTM(emb_size, hid_size, n_layer, bidirectional=self.bidirectionality)\n",
    "        slot_input_size = hid_size * 2 if self.bidirectionality else hid_size \n",
    "        self.slot_out = nn.Linear(slot_input_size, out_slot)\n",
    "        self.intent_out = nn.Linear(hid_size, out_int)\n",
    "        # self.dropout = 0.1\n",
    "        \n",
    "    def forward(self, utterance, seq_lengths):\n",
    "        utt_emb = self.embedding(utterance) # utt_emb.size() = batch_size X seq_len X emb_size\n",
    "\n",
    "        # utt_emb = F.dropout(utt_emb, self.dropout)\n",
    "        utt_emb = utt_emb.permute(1,0,2) # we need seq len first -> seq_len X batch_size X emb_size\n",
    "        # Process the batch\n",
    "\n",
    "        packed_input = pack_padded_sequence(utt_emb, seq_lengths.cpu().numpy())\n",
    "\n",
    "        packed_output, (self.hidden, _) = self.lstm(packed_input) \n",
    "        \n",
    "        packed_output, input_sizes = pad_packed_sequence(packed_output)\n",
    "\n",
    "        # packed_output = F.dropout(packed_output, self.dropout)\n",
    "        # self.hidden = F.dropout(self.hidden, self.dropout)\n",
    "\n",
    "        last_hidden = self.hidden[-1,:,:]\n",
    "\n",
    "        # Compute slot logits\n",
    "        slots = self.slot_out(packed_output)\n",
    "        # Compute intent logits\n",
    "        intent = self.intent_out(last_hidden)\n",
    "        \n",
    "        # Slot size: seq_len, batch size, calsses \n",
    "        slots = slots.permute(1,2,0) # We need this for computing the loss\n",
    "        # Slot size: batch_size, classes, seq_len\n",
    "        return slots, intent"
   ]
  },
  {
   "cell_type": "code",
   "execution_count": 10,
   "metadata": {},
   "outputs": [],
   "source": [
    "from torch.nn.utils.rnn import pack_padded_sequence, pad_packed_sequence\n",
    "class ED(nn.Module):\n",
    "\n",
    "    def __init__(self, hid_size, out_slot, out_int, emb_size, vocab_len, n_layer=1, pad_index=0, dropout=0.1):\n",
    "        super(ED, self).__init__()\n",
    "\n",
    "        self.hidden = None\n",
    "        self.dropout = nn.Dropout(dropout)\n",
    "\n",
    "        # Encoder\n",
    "        self.embedding = nn.Embedding(vocab_len, emb_size, padding_idx=pad_index)\n",
    "        self.enc_gru = nn.LSTM(emb_size, hid_size, n_layer, bidirectional=True)\n",
    "        new_input_size = hid_size*2\n",
    "        # Decoder Slot\n",
    "        self.dec_gru_slot = nn.LSTM(new_input_size, hid_size, n_layer, bidirectional=True)\n",
    "        self.slot_out = nn.Linear(new_input_size, out_slot)\n",
    "        # Decoder Intent\n",
    "        self.dec_gru_int = nn.LSTM(hid_size, hid_size, n_layer, bidirectional=True)\n",
    "        self.intent_out = nn.Linear(new_input_size, out_int)\n",
    "\n",
    "        \n",
    "\n",
    "        \n",
    "    def forward(self, utterance, seq_lengths):\n",
    "        embedded_utt = self.embedding(utterance) \n",
    "        embedded_utt = self.dropout(embedded_utt)\n",
    "        embedded_utt = embedded_utt.permute(1,0,2) \n",
    "\n",
    "        # Encoding\n",
    "        embedded_utt_packed = pack_padded_sequence(embedded_utt, seq_lengths.cpu().numpy())\n",
    "        packed_output, (self.hidden, _) = self.enc_gru(embedded_utt_packed) \n",
    "        unpacked_output, input_sizes = pad_packed_sequence(packed_output)\n",
    "\n",
    "        last_hidden = self.hidden[-1,:,:]\n",
    "        \n",
    "        # Decoding INTENT\n",
    "        out_int, self.hidden = self.dec_gru_int(last_hidden) \n",
    "        out_int = self.dropout(out_int)\n",
    "        intent = self.intent_out(out_int)\n",
    "\n",
    "        # Decoding SLOTS\n",
    "        out_slot, self.hidden = self.dec_gru_slot(unpacked_output) \n",
    "        slots = self.slot_out(out_slot)\n",
    "        slots = self.dropout(slots)\n",
    "        slots = slots.permute(1,2,0) \n",
    "\n",
    "        return slots, intent"
   ]
  },
  {
   "cell_type": "code",
   "execution_count": 11,
   "metadata": {},
   "outputs": [],
   "source": [
    "from tqdm import tqdm\n",
    "import numpy as np\n",
    "import torch.optim as optim\n",
    "def do_model(dataset=\"ATIS\", model=\"ED\"):\n",
    "    train_loader, dev_loader, test_loader, lang = prepare_data(dataset)\n",
    "    hid_size = 200\n",
    "    emb_size = 300\n",
    "\n",
    "    lr = 0.001 # learning rate\n",
    "    clip = 5 # Clip the gradient\n",
    "\n",
    "    out_slot = len(lang.slot2id)\n",
    "    out_int = len(lang.intent2id)\n",
    "    vocab_len = len(lang.word2id)\n",
    "    if model == 'ModelIAS':\n",
    "        model = ModelIAS(hid_size, out_slot, out_int, emb_size, vocab_len, pad_index=PAD_TOKEN).to(device)\n",
    "    elif model == 'ED':\n",
    "        model = ED(hid_size, out_slot, out_int, emb_size, vocab_len, pad_index=PAD_TOKEN).to(device)\n",
    "    elif model == 'IASbi':\n",
    "        model = IASbi(hid_size, out_slot, out_int, emb_size, vocab_len, pad_index=PAD_TOKEN).to(device)\n",
    "    model.apply(init_weights)\n",
    "    optimizer = optim.Adam(model.parameters(), lr=lr)\n",
    "    criterion_slots = nn.CrossEntropyLoss(ignore_index=PAD_TOKEN)\n",
    "    criterion_intents = nn.CrossEntropyLoss() # Because we do not have the pad token\n",
    "\n",
    "    n_epochs = 200\n",
    "    patience = 10\n",
    "\n",
    "    losses_train = []\n",
    "    losses_dev = []\n",
    "    sampled_epochs = []\n",
    "    best_f1 = 0\n",
    "\n",
    "    for x in tqdm(range(1,n_epochs)):\n",
    "        loss = train_loop(train_loader, optimizer, criterion_slots, \n",
    "                        criterion_intents, model)\n",
    "        if x % 5 == 0:\n",
    "            sampled_epochs.append(x)\n",
    "            losses_train.append(np.asarray(loss).mean())\n",
    "            results_dev, intent_res, loss_dev = eval_loop(dev_loader, criterion_slots, \n",
    "                                                        criterion_intents, model, lang)\n",
    "            losses_dev.append(np.asarray(loss_dev).mean())\n",
    "            f1 = results_dev['total']['f']\n",
    "            \n",
    "            if f1 > best_f1:\n",
    "                best_f1 = f1\n",
    "            else:\n",
    "                patience -= 1\n",
    "            if patience <= 0: # Early stopping with patience\n",
    "                break # Not nice but it keeps the code clean\n",
    "\n",
    "    results_test, intent_test, _ = eval_loop(test_loader, criterion_slots, \n",
    "                                            criterion_intents, model, lang)\n",
    "\n",
    "    # print('Slot F1: ', results_test['total']['f'])\n",
    "    # print('Intent Accuracy:', intent_test['accuracy'])\n",
    "    return results_test['total']['f'], intent_test['accuracy']"
   ]
  },
  {
   "cell_type": "code",
   "execution_count": 12,
   "metadata": {},
   "outputs": [],
   "source": [
    "def NLU(dataset, model):\n",
    "    trials = 5\n",
    "    results = []\n",
    "    for x in range(trials):\n",
    "        results.append(do_model(dataset, model))\n",
    "\n",
    "    print (f\"#################### {model} - {dataset} ####################\")\n",
    "    print(\"Average Slot F1: \", np.asarray(results).mean(axis=0)[0]*100, \"+-\", np.asarray(results).std(axis=0)[0]*100)\n",
    "    print(\"Average Intent Accuracy: \", np.asarray(results).mean(axis=0)[1]*100, \"+-\", np.asarray(results).std(axis=0)[1]*100)\n",
    "    print(results)"
   ]
  },
  {
   "cell_type": "code",
   "execution_count": 13,
   "metadata": {},
   "outputs": [
    {
     "name": "stderr",
     "output_type": "stream",
     "text": [
      " 40%|███▉      | 79/199 [02:28<03:46,  1.89s/it]\n",
      " 37%|███▋      | 74/199 [02:12<03:44,  1.79s/it]\n",
      " 47%|████▋     | 94/199 [02:57<03:18,  1.89s/it]\n",
      " 45%|████▍     | 89/199 [02:46<03:25,  1.87s/it]\n",
      " 47%|████▋     | 94/199 [02:55<03:16,  1.87s/it]\n"
     ]
    },
    {
     "name": "stdout",
     "output_type": "stream",
     "text": [
      "#################### ED - ATIS ####################\n",
      "Average Slot F1:  94.94672148096731 +- 0.11742013524016226\n",
      "Average Intent Accuracy:  96.41657334826428 +- 0.2553584378721487\n",
      "[(0.9497959907752351, 0.961926091825308), (0.9500884955752212, 0.9641657334826428), (0.951150442477876, 0.9608062709966405), (0.9483734087694483, 0.9675251959686451), (0.9479277364505846, 0.9664053751399776)]\n"
     ]
    }
   ],
   "source": [
    "NLU(\"ATIS\", \"ED\")"
   ]
  },
  {
   "cell_type": "code",
   "execution_count": 14,
   "metadata": {},
   "outputs": [
    {
     "name": "stderr",
     "output_type": "stream",
     "text": [
      " 35%|███▍      | 69/199 [05:40<10:42,  4.94s/it]\n",
      " 37%|███▋      | 74/199 [06:08<10:23,  4.99s/it]\n",
      " 40%|███▉      | 79/199 [06:56<10:32,  5.27s/it]\n",
      " 37%|███▋      | 74/199 [06:53<11:38,  5.59s/it]\n",
      " 45%|████▍     | 89/199 [08:18<10:16,  5.60s/it]\n"
     ]
    },
    {
     "name": "stdout",
     "output_type": "stream",
     "text": [
      "#################### ED - SNIPS ####################\n",
      "Average Slot F1:  90.66229208032685 +- 0.44214497641952166\n",
      "Average Intent Accuracy:  96.62857142857142 +- 0.23211538298959725\n",
      "[(0.9041472123043119, 0.9685714285714285), (0.9058468295360966, 0.9628571428571429), (0.9129476584022038, 0.9671428571428572), (0.9002754820936639, 0.9685714285714285), (0.9098974216800665, 0.9642857142857143)]\n"
     ]
    }
   ],
   "source": [
    "NLU(\"SNIPS\", \"ED\")"
   ]
  },
  {
   "cell_type": "code",
   "execution_count": 15,
   "metadata": {},
   "outputs": [
    {
     "name": "stderr",
     "output_type": "stream",
     "text": [
      " 57%|█████▋    | 114/199 [01:12<00:54,  1.56it/s]\n",
      " 45%|████▍     | 89/199 [01:01<01:16,  1.44it/s]\n",
      " 57%|█████▋    | 114/199 [01:15<00:56,  1.51it/s]\n",
      " 47%|████▋     | 94/199 [00:59<01:06,  1.57it/s]\n",
      " 47%|████▋     | 94/199 [00:59<01:06,  1.58it/s]"
     ]
    },
    {
     "name": "stdout",
     "output_type": "stream",
     "text": [
      "#################### ModelIAS - ATIS ####################\n",
      "Average Slot F1:  92.83863247868783 +- 0.29393356849815006\n",
      "Average Intent Accuracy:  93.61702127659575 +- 0.4308036743935347\n",
      "[(0.926400843140699, 0.9361702127659575), (0.9248677248677248, 0.9384098544232923), (0.9334039922275217, 0.9305711086226204), (0.9277405710257314, 0.9428891377379619), (0.9295184926727145, 0.9328107502799552)]\n"
     ]
    },
    {
     "name": "stderr",
     "output_type": "stream",
     "text": [
      "\n"
     ]
    }
   ],
   "source": [
    "NLU(\"ATIS\", \"ModelIAS\")"
   ]
  },
  {
   "cell_type": "code",
   "execution_count": 16,
   "metadata": {},
   "outputs": [
    {
     "name": "stderr",
     "output_type": "stream",
     "text": [
      " 45%|████▍     | 89/199 [02:25<02:59,  1.63s/it]\n",
      " 40%|███▉      | 79/199 [02:08<03:15,  1.63s/it]\n",
      " 21%|██        | 42/199 [01:08<04:12,  1.61s/it]"
     ]
    }
   ],
   "source": [
    "NLU(\"SNIPS\", \"ModelIAS\")"
   ]
  },
  {
   "cell_type": "code",
   "execution_count": null,
   "metadata": {},
   "outputs": [],
   "source": [
    "NLU(\"ATIS\", \"IASbi\")"
   ]
  },
  {
   "cell_type": "code",
   "execution_count": null,
   "metadata": {},
   "outputs": [],
   "source": [
    "NLU(\"SNIPS\", \"IASbi\")"
   ]
  },
  {
   "attachments": {},
   "cell_type": "markdown",
   "metadata": {},
   "source": [
    "https://www.isca-speech.org/archive_v0/Interspeech_2016/pdfs/1352.PDF"
   ]
  }
 ],
 "metadata": {
  "kernelspec": {
   "display_name": "Python 3",
   "language": "python",
   "name": "python3"
  },
  "language_info": {
   "codemirror_mode": {
    "name": "ipython",
    "version": 3
   },
   "file_extension": ".py",
   "mimetype": "text/x-python",
   "name": "python",
   "nbconvert_exporter": "python",
   "pygments_lexer": "ipython3",
   "version": "3.10.9"
  },
  "orig_nbformat": 4,
  "vscode": {
   "interpreter": {
    "hash": "760bf3b9c43a19e2fe1b4d509841bd16027d034122dfd0e7f3a29ff3458619a9"
   }
  }
 },
 "nbformat": 4,
 "nbformat_minor": 2
}
