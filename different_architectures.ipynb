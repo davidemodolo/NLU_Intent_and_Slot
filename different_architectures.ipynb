{
 "cells": [
  {
   "cell_type": "code",
   "execution_count": null,
   "metadata": {},
   "outputs": [],
   "source": []
  }
 ],
 "metadata": {
  "kernelspec": {
   "display_name": "Python 3.10.5 64-bit",
   "language": "python",
   "name": "python3"
  },
  "language_info": {
   "name": "python",
   "version": "3.10.5"
  },
  "orig_nbformat": 4,
  "vscode": {
   "interpreter": {
    "hash": "760bf3b9c43a19e2fe1b4d509841bd16027d034122dfd0e7f3a29ff3458619a9"
   }
  }
 },
 "nbformat": 4,
 "nbformat_minor": 2
}
